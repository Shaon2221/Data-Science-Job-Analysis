{
 "cells": [
  {
   "cell_type": "markdown",
   "metadata": {},
   "source": [
    "# Exploratory Data Analysis"
   ]
  },
  {
   "cell_type": "code",
   "execution_count": 1,
   "metadata": {},
   "outputs": [],
   "source": [
    "import pandas as pd \n",
    "import matplotlib.pyplot as plt \n",
    "import seaborn as sns"
   ]
  },
  {
   "cell_type": "code",
   "execution_count": 2,
   "metadata": {},
   "outputs": [
    {
     "name": "stdout",
     "output_type": "stream",
     "text": [
      " Volume in drive C is New Volume\n",
      " Volume Serial Number is 24F0-9997\n",
      "\n",
      " Directory of C:\\Project\\practice\\Projects\\Job Analysis\n",
      "\n",
      "09/11/2020  03:10 AM    <DIR>          .\n",
      "09/11/2020  03:10 AM    <DIR>          ..\n",
      "09/11/2020  03:10 AM    <DIR>          .ipynb_checkpoints\n",
      "09/06/2020  12:21 AM         3,077,535 Cleaned_dataset.csv\n",
      "09/06/2020  12:24 AM            56,074 Data Cleaning.ipynb\n",
      "09/11/2020  03:10 AM                72 EDA.ipynb\n",
      "09/05/2020  02:57 AM         4,181,032 glassdoor_ds_data.csv\n",
      "09/04/2020  02:36 AM             8,692 glassdoor_scraper.py\n",
      "09/05/2020  03:01 AM            65,144 scraper.ipynb\n",
      "               6 File(s)      7,388,549 bytes\n",
      "               3 Dir(s)  239,986,749,440 bytes free\n"
     ]
    }
   ],
   "source": [
    "ls"
   ]
  },
  {
   "cell_type": "code",
   "execution_count": 3,
   "metadata": {
    "scrolled": true
   },
   "outputs": [
    {
     "data": {
      "text/html": [
       "<div>\n",
       "<style scoped>\n",
       "    .dataframe tbody tr th:only-of-type {\n",
       "        vertical-align: middle;\n",
       "    }\n",
       "\n",
       "    .dataframe tbody tr th {\n",
       "        vertical-align: top;\n",
       "    }\n",
       "\n",
       "    .dataframe thead th {\n",
       "        text-align: right;\n",
       "    }\n",
       "</style>\n",
       "<table border=\"1\" class=\"dataframe\">\n",
       "  <thead>\n",
       "    <tr style=\"text-align: right;\">\n",
       "      <th></th>\n",
       "      <th>Unnamed: 0</th>\n",
       "      <th>Job Title</th>\n",
       "      <th>Salary Estimate</th>\n",
       "      <th>Job Description</th>\n",
       "      <th>Rating</th>\n",
       "      <th>Company Name</th>\n",
       "      <th>Location</th>\n",
       "      <th>Size</th>\n",
       "      <th>Founded</th>\n",
       "      <th>Type of ownership</th>\n",
       "      <th>...</th>\n",
       "      <th>min_salary</th>\n",
       "      <th>max_salary</th>\n",
       "      <th>avg_salary</th>\n",
       "      <th>company_txt</th>\n",
       "      <th>age</th>\n",
       "      <th>python_yn</th>\n",
       "      <th>R_yn</th>\n",
       "      <th>spark</th>\n",
       "      <th>aws</th>\n",
       "      <th>excel</th>\n",
       "    </tr>\n",
       "  </thead>\n",
       "  <tbody>\n",
       "    <tr>\n",
       "      <th>0</th>\n",
       "      <td>0</td>\n",
       "      <td>Software Engineer - Data Science</td>\n",
       "      <td>$60K-$127K (Glassdoor est.)</td>\n",
       "      <td>Join ClearEdge and be a part of the team of me...</td>\n",
       "      <td>4.1</td>\n",
       "      <td>ClearEdge\\n4.1</td>\n",
       "      <td>Annapolis Junction, MD</td>\n",
       "      <td>51 to 200 Employees</td>\n",
       "      <td>2002</td>\n",
       "      <td>Company - Private</td>\n",
       "      <td>...</td>\n",
       "      <td>60</td>\n",
       "      <td>127</td>\n",
       "      <td>93.5</td>\n",
       "      <td>ClearEdge\\n</td>\n",
       "      <td>18</td>\n",
       "      <td>1</td>\n",
       "      <td>0</td>\n",
       "      <td>1</td>\n",
       "      <td>0</td>\n",
       "      <td>1</td>\n",
       "    </tr>\n",
       "    <tr>\n",
       "      <th>1</th>\n",
       "      <td>1</td>\n",
       "      <td>Quality Systems Data Science Engineer</td>\n",
       "      <td>$60K-$127K (Glassdoor est.)</td>\n",
       "      <td>It is our people behind life’s passions who wi...</td>\n",
       "      <td>3.7</td>\n",
       "      <td>Mercury Marine\\n3.7</td>\n",
       "      <td>Fond du Lac, WI</td>\n",
       "      <td>1001 to 5000 Employees</td>\n",
       "      <td>1939</td>\n",
       "      <td>Company - Public</td>\n",
       "      <td>...</td>\n",
       "      <td>60</td>\n",
       "      <td>127</td>\n",
       "      <td>93.5</td>\n",
       "      <td>Mercury Marine\\n</td>\n",
       "      <td>81</td>\n",
       "      <td>0</td>\n",
       "      <td>0</td>\n",
       "      <td>0</td>\n",
       "      <td>0</td>\n",
       "      <td>1</td>\n",
       "    </tr>\n",
       "    <tr>\n",
       "      <th>2</th>\n",
       "      <td>2</td>\n",
       "      <td>Inside Sales Representative (Headquarters)</td>\n",
       "      <td>$60K-$127K (Glassdoor est.)</td>\n",
       "      <td>Becoming a Sales Professional at Red Ventures ...</td>\n",
       "      <td>2.5</td>\n",
       "      <td>Red Ventures - Sales\\n2.5</td>\n",
       "      <td>Charlotte, NC</td>\n",
       "      <td>1001 to 5000 Employees</td>\n",
       "      <td>2000</td>\n",
       "      <td>Company - Private</td>\n",
       "      <td>...</td>\n",
       "      <td>60</td>\n",
       "      <td>127</td>\n",
       "      <td>93.5</td>\n",
       "      <td>Red Ventures - Sales\\n</td>\n",
       "      <td>20</td>\n",
       "      <td>0</td>\n",
       "      <td>0</td>\n",
       "      <td>0</td>\n",
       "      <td>0</td>\n",
       "      <td>0</td>\n",
       "    </tr>\n",
       "    <tr>\n",
       "      <th>3</th>\n",
       "      <td>3</td>\n",
       "      <td>Data Scientist</td>\n",
       "      <td>$60K-$127K (Glassdoor est.)</td>\n",
       "      <td>Braxton Technologies is looking for a data sci...</td>\n",
       "      <td>1.6</td>\n",
       "      <td>Braxton Science &amp; Technology Group\\n1.6</td>\n",
       "      <td>Colorado Springs, CO</td>\n",
       "      <td>51 to 200 Employees</td>\n",
       "      <td>-1</td>\n",
       "      <td>Company - Private</td>\n",
       "      <td>...</td>\n",
       "      <td>60</td>\n",
       "      <td>127</td>\n",
       "      <td>93.5</td>\n",
       "      <td>Braxton Science &amp; Technology Group\\n</td>\n",
       "      <td>-1</td>\n",
       "      <td>1</td>\n",
       "      <td>0</td>\n",
       "      <td>1</td>\n",
       "      <td>0</td>\n",
       "      <td>1</td>\n",
       "    </tr>\n",
       "    <tr>\n",
       "      <th>4</th>\n",
       "      <td>4</td>\n",
       "      <td>Data Science Engineer Full Stack - AI</td>\n",
       "      <td>$60K-$127K (Glassdoor est.)</td>\n",
       "      <td>Data Science Engineer Full Stack - AI\\n\\nOverv...</td>\n",
       "      <td>2.8</td>\n",
       "      <td>BryterCX\\n2.8</td>\n",
       "      <td>United States</td>\n",
       "      <td>51 to 200 Employees</td>\n",
       "      <td>2000</td>\n",
       "      <td>Company - Private</td>\n",
       "      <td>...</td>\n",
       "      <td>60</td>\n",
       "      <td>127</td>\n",
       "      <td>93.5</td>\n",
       "      <td>BryterCX\\n</td>\n",
       "      <td>20</td>\n",
       "      <td>1</td>\n",
       "      <td>0</td>\n",
       "      <td>1</td>\n",
       "      <td>0</td>\n",
       "      <td>1</td>\n",
       "    </tr>\n",
       "  </tbody>\n",
       "</table>\n",
       "<p>5 rows × 25 columns</p>\n",
       "</div>"
      ],
      "text/plain": [
       "   Unnamed: 0                                   Job Title  \\\n",
       "0           0            Software Engineer - Data Science   \n",
       "1           1       Quality Systems Data Science Engineer   \n",
       "2           2  Inside Sales Representative (Headquarters)   \n",
       "3           3                              Data Scientist   \n",
       "4           4       Data Science Engineer Full Stack - AI   \n",
       "\n",
       "               Salary Estimate  \\\n",
       "0  $60K-$127K (Glassdoor est.)   \n",
       "1  $60K-$127K (Glassdoor est.)   \n",
       "2  $60K-$127K (Glassdoor est.)   \n",
       "3  $60K-$127K (Glassdoor est.)   \n",
       "4  $60K-$127K (Glassdoor est.)   \n",
       "\n",
       "                                     Job Description  Rating  \\\n",
       "0  Join ClearEdge and be a part of the team of me...     4.1   \n",
       "1  It is our people behind life’s passions who wi...     3.7   \n",
       "2  Becoming a Sales Professional at Red Ventures ...     2.5   \n",
       "3  Braxton Technologies is looking for a data sci...     1.6   \n",
       "4  Data Science Engineer Full Stack - AI\\n\\nOverv...     2.8   \n",
       "\n",
       "                              Company Name                Location  \\\n",
       "0                           ClearEdge\\n4.1  Annapolis Junction, MD   \n",
       "1                      Mercury Marine\\n3.7         Fond du Lac, WI   \n",
       "2                Red Ventures - Sales\\n2.5           Charlotte, NC   \n",
       "3  Braxton Science & Technology Group\\n1.6    Colorado Springs, CO   \n",
       "4                            BryterCX\\n2.8           United States   \n",
       "\n",
       "                     Size  Founded  Type of ownership  ... min_salary  \\\n",
       "0     51 to 200 Employees     2002  Company - Private  ...         60   \n",
       "1  1001 to 5000 Employees     1939   Company - Public  ...         60   \n",
       "2  1001 to 5000 Employees     2000  Company - Private  ...         60   \n",
       "3     51 to 200 Employees       -1  Company - Private  ...         60   \n",
       "4     51 to 200 Employees     2000  Company - Private  ...         60   \n",
       "\n",
       "  max_salary avg_salary                           company_txt  age  python_yn  \\\n",
       "0        127       93.5                           ClearEdge\\n   18          1   \n",
       "1        127       93.5                      Mercury Marine\\n   81          0   \n",
       "2        127       93.5                Red Ventures - Sales\\n   20          0   \n",
       "3        127       93.5  Braxton Science & Technology Group\\n   -1          1   \n",
       "4        127       93.5                            BryterCX\\n   20          1   \n",
       "\n",
       "   R_yn  spark aws  excel  \n",
       "0     0      1   0      1  \n",
       "1     0      0   0      1  \n",
       "2     0      0   0      0  \n",
       "3     0      1   0      1  \n",
       "4     0      1   0      1  \n",
       "\n",
       "[5 rows x 25 columns]"
      ]
     },
     "execution_count": 3,
     "metadata": {},
     "output_type": "execute_result"
    }
   ],
   "source": [
    "df = pd.read_csv('Cleaned_dataset.csv')\n",
    "df.head()"
   ]
  },
  {
   "cell_type": "code",
   "execution_count": 4,
   "metadata": {},
   "outputs": [],
   "source": [
    "# Custom function for title simplifying\n",
    "def title_simplifier(title):\n",
    "    if 'data scientist' in title.lower():\n",
    "        return 'data scientist'\n",
    "    elif 'data engineer' in title.lower():\n",
    "        return 'data engineer'\n",
    "    elif 'analyst' in title.lower():\n",
    "        return 'analyst'\n",
    "    elif 'machine learning' in title.lower():\n",
    "        return 'mle'\n",
    "    elif 'manager' in title.lower():\n",
    "        return 'manager'\n",
    "    elif 'director' in title.lower():\n",
    "        return 'director'\n",
    "    else:\n",
    "        return 'na'"
   ]
  },
  {
   "cell_type": "code",
   "execution_count": 5,
   "metadata": {},
   "outputs": [],
   "source": [
    "# Custom function for define seniority  \n",
    "def seniority(title):\n",
    "    if 'sr' in title.lower() or 'senior' in title.lower() or 'sr' in title.lower() or 'lead' in title.lower() or 'principal' in title.lower():\n",
    "            return 'senior'\n",
    "    elif 'jr' in title.lower() or 'jr.' in title.lower():\n",
    "        return 'jr'\n",
    "    else:\n",
    "        return 'na'"
   ]
  },
  {
   "cell_type": "code",
   "execution_count": 6,
   "metadata": {},
   "outputs": [],
   "source": [
    "###>>>>>>>>>Steps<<<<<<<<<<###\n",
    "\n",
    "## Job title and seniority \n",
    "\n",
    "##  Job description length \n",
    "\n",
    "## hourly wage to annual \n",
    "\n",
    "#remove new line from job title"
   ]
  },
  {
   "cell_type": "markdown",
   "metadata": {},
   "source": [
    "### Job title & seniority labeling"
   ]
  },
  {
   "cell_type": "code",
   "execution_count": 7,
   "metadata": {},
   "outputs": [
    {
     "data": {
      "text/plain": [
       "data scientist    304\n",
       "na                151\n",
       "analyst           130\n",
       "data engineer      73\n",
       "mle                51\n",
       "manager            35\n",
       "director           16\n",
       "Name: job_simp, dtype: int64"
      ]
     },
     "execution_count": 7,
     "metadata": {},
     "output_type": "execute_result"
    }
   ],
   "source": [
    "df['job_simp'] = df['Job Title'].apply(title_simplifier)\n",
    "df.job_simp.value_counts()"
   ]
  },
  {
   "cell_type": "markdown",
   "metadata": {},
   "source": [
    "WE can see, there some na labels. We should eliminate those later."
   ]
  },
  {
   "cell_type": "code",
   "execution_count": 8,
   "metadata": {},
   "outputs": [
    {
     "data": {
      "text/plain": [
       "na        598\n",
       "senior    162\n",
       "Name: seniority, dtype: int64"
      ]
     },
     "execution_count": 8,
     "metadata": {},
     "output_type": "execute_result"
    }
   ],
   "source": [
    "df['seniority'] = df['Job Title'].apply(seniority)\n",
    "df.seniority.value_counts()"
   ]
  },
  {
   "cell_type": "markdown",
   "metadata": {},
   "source": [
    "- Opps! no job for junior level :(  <br>\n",
    "- A lot of na labels -_-"
   ]
  },
  {
   "cell_type": "markdown",
   "metadata": {},
   "source": [
    "### Job description length count"
   ]
  },
  {
   "cell_type": "code",
   "execution_count": 9,
   "metadata": {},
   "outputs": [
    {
     "data": {
      "text/plain": [
       "0      4564\n",
       "1      2836\n",
       "2      3157\n",
       "3      3695\n",
       "4      2899\n",
       "       ... \n",
       "755    3996\n",
       "756    4022\n",
       "757    3230\n",
       "758    2681\n",
       "759    4220\n",
       "Name: desc_len, Length: 760, dtype: int64"
      ]
     },
     "execution_count": 9,
     "metadata": {},
     "output_type": "execute_result"
    }
   ],
   "source": [
    "df['desc_len'] = df['Job Description'].apply(lambda x: len(x))\n",
    "df['desc_len']"
   ]
  },
  {
   "cell_type": "code",
   "execution_count": 10,
   "metadata": {},
   "outputs": [
    {
     "data": {
      "text/plain": [
       "3782.221052631579"
      ]
     },
     "execution_count": 10,
     "metadata": {},
     "output_type": "execute_result"
    }
   ],
   "source": [
    "df['desc_len'].mean()   # Average description length"
   ]
  },
  {
   "cell_type": "markdown",
   "metadata": {},
   "source": [
    "### Fix hourly wage in salary"
   ]
  },
  {
   "cell_type": "markdown",
   "metadata": {},
   "source": [
    "<img src='https://www.patriotsoftware.com/wp-content/uploads/2019/12/hourly_to_salary_75023.2.jpg' height=300 width=300>"
   ]
  },
  {
   "cell_type": "code",
   "execution_count": 11,
   "metadata": {},
   "outputs": [],
   "source": [
    "#hourly wage to annual (hourly_wage*2000=Annual salay roughly)\n",
    "\n",
    "df['min_salary'] = df.apply(lambda x: x.min_salary*2 if x.hourly ==1 else x.min_salary, axis =1)\n",
    "df['max_salary'] = df.apply(lambda x: x.max_salary*2 if x.hourly ==1 else x.max_salary, axis =1)"
   ]
  },
  {
   "cell_type": "code",
   "execution_count": 13,
   "metadata": {},
   "outputs": [
    {
     "data": {
      "text/html": [
       "<div>\n",
       "<style scoped>\n",
       "    .dataframe tbody tr th:only-of-type {\n",
       "        vertical-align: middle;\n",
       "    }\n",
       "\n",
       "    .dataframe tbody tr th {\n",
       "        vertical-align: top;\n",
       "    }\n",
       "\n",
       "    .dataframe thead th {\n",
       "        text-align: right;\n",
       "    }\n",
       "</style>\n",
       "<table border=\"1\" class=\"dataframe\">\n",
       "  <thead>\n",
       "    <tr style=\"text-align: right;\">\n",
       "      <th></th>\n",
       "      <th>hourly</th>\n",
       "      <th>min_salary</th>\n",
       "      <th>max_salary</th>\n",
       "    </tr>\n",
       "  </thead>\n",
       "  <tbody>\n",
       "    <tr>\n",
       "      <th>0</th>\n",
       "      <td>0</td>\n",
       "      <td>60</td>\n",
       "      <td>127</td>\n",
       "    </tr>\n",
       "    <tr>\n",
       "      <th>1</th>\n",
       "      <td>0</td>\n",
       "      <td>60</td>\n",
       "      <td>127</td>\n",
       "    </tr>\n",
       "    <tr>\n",
       "      <th>2</th>\n",
       "      <td>0</td>\n",
       "      <td>60</td>\n",
       "      <td>127</td>\n",
       "    </tr>\n",
       "    <tr>\n",
       "      <th>3</th>\n",
       "      <td>0</td>\n",
       "      <td>60</td>\n",
       "      <td>127</td>\n",
       "    </tr>\n",
       "    <tr>\n",
       "      <th>4</th>\n",
       "      <td>0</td>\n",
       "      <td>60</td>\n",
       "      <td>127</td>\n",
       "    </tr>\n",
       "    <tr>\n",
       "      <th>...</th>\n",
       "      <td>...</td>\n",
       "      <td>...</td>\n",
       "      <td>...</td>\n",
       "    </tr>\n",
       "    <tr>\n",
       "      <th>755</th>\n",
       "      <td>0</td>\n",
       "      <td>229</td>\n",
       "      <td>350</td>\n",
       "    </tr>\n",
       "    <tr>\n",
       "      <th>756</th>\n",
       "      <td>0</td>\n",
       "      <td>229</td>\n",
       "      <td>350</td>\n",
       "    </tr>\n",
       "    <tr>\n",
       "      <th>757</th>\n",
       "      <td>0</td>\n",
       "      <td>229</td>\n",
       "      <td>350</td>\n",
       "    </tr>\n",
       "    <tr>\n",
       "      <th>758</th>\n",
       "      <td>0</td>\n",
       "      <td>229</td>\n",
       "      <td>350</td>\n",
       "    </tr>\n",
       "    <tr>\n",
       "      <th>759</th>\n",
       "      <td>0</td>\n",
       "      <td>229</td>\n",
       "      <td>350</td>\n",
       "    </tr>\n",
       "  </tbody>\n",
       "</table>\n",
       "<p>760 rows × 3 columns</p>\n",
       "</div>"
      ],
      "text/plain": [
       "     hourly  min_salary  max_salary\n",
       "0         0          60         127\n",
       "1         0          60         127\n",
       "2         0          60         127\n",
       "3         0          60         127\n",
       "4         0          60         127\n",
       "..      ...         ...         ...\n",
       "755       0         229         350\n",
       "756       0         229         350\n",
       "757       0         229         350\n",
       "758       0         229         350\n",
       "759       0         229         350\n",
       "\n",
       "[760 rows x 3 columns]"
      ]
     },
     "execution_count": 13,
     "metadata": {},
     "output_type": "execute_result"
    }
   ],
   "source": [
    "df[df.hourly==0][['hourly','min_salary','max_salary']]"
   ]
  },
  {
   "cell_type": "code",
   "execution_count": 14,
   "metadata": {},
   "outputs": [
    {
     "data": {
      "text/plain": [
       "(760, 28)"
      ]
     },
     "execution_count": 14,
     "metadata": {},
     "output_type": "execute_result"
    }
   ],
   "source": [
    "df.shape"
   ]
  },
  {
   "cell_type": "markdown",
   "metadata": {},
   "source": [
    "Ow! We don't have any hourly wage. Let's remove hourly column then."
   ]
  },
  {
   "cell_type": "code",
   "execution_count": 15,
   "metadata": {},
   "outputs": [
    {
     "data": {
      "text/plain": [
       "Index(['Unnamed: 0', 'Job Title', 'Salary Estimate', 'Job Description',\n",
       "       'Rating', 'Company Name', 'Location', 'Size', 'Founded',\n",
       "       'Type of ownership', 'Industry', 'Sector', 'Revenue', 'hourly',\n",
       "       'employer_provided', 'min_salary', 'max_salary', 'avg_salary',\n",
       "       'company_txt', 'age', 'python_yn', 'R_yn', 'spark', 'aws', 'excel',\n",
       "       'job_simp', 'seniority', 'desc_len'],\n",
       "      dtype='object')"
      ]
     },
     "execution_count": 15,
     "metadata": {},
     "output_type": "execute_result"
    }
   ],
   "source": [
    "df.columns"
   ]
  },
  {
   "cell_type": "code",
   "execution_count": 18,
   "metadata": {},
   "outputs": [],
   "source": [
    "df.drop(columns=['Unnamed: 0','hourly'],inplace=True)"
   ]
  },
  {
   "cell_type": "code",
   "execution_count": 19,
   "metadata": {},
   "outputs": [
    {
     "data": {
      "text/plain": [
       "(760, 26)"
      ]
     },
     "execution_count": 19,
     "metadata": {},
     "output_type": "execute_result"
    }
   ],
   "source": [
    "df.shape"
   ]
  },
  {
   "cell_type": "markdown",
   "metadata": {},
   "source": [
    "### Removing /n for job title"
   ]
  },
  {
   "cell_type": "code",
   "execution_count": 20,
   "metadata": {},
   "outputs": [
    {
     "data": {
      "text/plain": [
       "0                               ClearEdge\\n\n",
       "1                          Mercury Marine\\n\n",
       "2                    Red Ventures - Sales\\n\n",
       "3      Braxton Science & Technology Group\\n\n",
       "4                                BryterCX\\n\n",
       "                       ...                 \n",
       "755                              1010data\\n\n",
       "756                     National Grid USA\\n\n",
       "757                                Tapjoy\\n\n",
       "758         Raytheon Intelligence & Space\\n\n",
       "759                         ConsumerTrack\\n\n",
       "Name: company_txt, Length: 760, dtype: object"
      ]
     },
     "execution_count": 20,
     "metadata": {},
     "output_type": "execute_result"
    }
   ],
   "source": [
    "df['company_txt']"
   ]
  },
  {
   "cell_type": "code",
   "execution_count": 21,
   "metadata": {},
   "outputs": [],
   "source": [
    "df['company_txt'] = df.company_txt.apply(lambda x: x.replace('\\n', ''))"
   ]
  },
  {
   "cell_type": "code",
   "execution_count": 22,
   "metadata": {},
   "outputs": [
    {
     "data": {
      "text/plain": [
       "0                               ClearEdge\n",
       "1                          Mercury Marine\n",
       "2                    Red Ventures - Sales\n",
       "3      Braxton Science & Technology Group\n",
       "4                                BryterCX\n",
       "                      ...                \n",
       "755                              1010data\n",
       "756                     National Grid USA\n",
       "757                                Tapjoy\n",
       "758         Raytheon Intelligence & Space\n",
       "759                         ConsumerTrack\n",
       "Name: company_txt, Length: 760, dtype: object"
      ]
     },
     "execution_count": 22,
     "metadata": {},
     "output_type": "execute_result"
    }
   ],
   "source": [
    "df['company_txt']"
   ]
  },
  {
   "cell_type": "markdown",
   "metadata": {},
   "source": [
    "## Analysis"
   ]
  },
  {
   "cell_type": "code",
   "execution_count": 23,
   "metadata": {},
   "outputs": [
    {
     "data": {
      "text/html": [
       "<div>\n",
       "<style scoped>\n",
       "    .dataframe tbody tr th:only-of-type {\n",
       "        vertical-align: middle;\n",
       "    }\n",
       "\n",
       "    .dataframe tbody tr th {\n",
       "        vertical-align: top;\n",
       "    }\n",
       "\n",
       "    .dataframe thead th {\n",
       "        text-align: right;\n",
       "    }\n",
       "</style>\n",
       "<table border=\"1\" class=\"dataframe\">\n",
       "  <thead>\n",
       "    <tr style=\"text-align: right;\">\n",
       "      <th></th>\n",
       "      <th>Rating</th>\n",
       "      <th>Founded</th>\n",
       "      <th>employer_provided</th>\n",
       "      <th>min_salary</th>\n",
       "      <th>max_salary</th>\n",
       "      <th>avg_salary</th>\n",
       "      <th>age</th>\n",
       "      <th>python_yn</th>\n",
       "      <th>R_yn</th>\n",
       "      <th>spark</th>\n",
       "      <th>aws</th>\n",
       "      <th>excel</th>\n",
       "      <th>desc_len</th>\n",
       "    </tr>\n",
       "  </thead>\n",
       "  <tbody>\n",
       "    <tr>\n",
       "      <th>count</th>\n",
       "      <td>760.000000</td>\n",
       "      <td>760.000000</td>\n",
       "      <td>760.0</td>\n",
       "      <td>760.000000</td>\n",
       "      <td>760.000000</td>\n",
       "      <td>760.000000</td>\n",
       "      <td>760.000000</td>\n",
       "      <td>760.000000</td>\n",
       "      <td>760.000000</td>\n",
       "      <td>760.000000</td>\n",
       "      <td>760.000000</td>\n",
       "      <td>760.000000</td>\n",
       "      <td>760.000000</td>\n",
       "    </tr>\n",
       "    <tr>\n",
       "      <th>mean</th>\n",
       "      <td>3.728026</td>\n",
       "      <td>1788.372368</td>\n",
       "      <td>0.0</td>\n",
       "      <td>82.117105</td>\n",
       "      <td>139.852632</td>\n",
       "      <td>110.984868</td>\n",
       "      <td>29.427632</td>\n",
       "      <td>0.646053</td>\n",
       "      <td>0.009211</td>\n",
       "      <td>0.225000</td>\n",
       "      <td>0.282895</td>\n",
       "      <td>0.475000</td>\n",
       "      <td>3782.221053</td>\n",
       "    </tr>\n",
       "    <tr>\n",
       "      <th>std</th>\n",
       "      <td>0.948498</td>\n",
       "      <td>597.701045</td>\n",
       "      <td>0.0</td>\n",
       "      <td>36.006561</td>\n",
       "      <td>52.906504</td>\n",
       "      <td>44.222340</td>\n",
       "      <td>33.456322</td>\n",
       "      <td>0.478508</td>\n",
       "      <td>0.095591</td>\n",
       "      <td>0.417857</td>\n",
       "      <td>0.450702</td>\n",
       "      <td>0.499703</td>\n",
       "      <td>1575.904251</td>\n",
       "    </tr>\n",
       "    <tr>\n",
       "      <th>min</th>\n",
       "      <td>-1.000000</td>\n",
       "      <td>-1.000000</td>\n",
       "      <td>0.0</td>\n",
       "      <td>30.000000</td>\n",
       "      <td>56.000000</td>\n",
       "      <td>45.500000</td>\n",
       "      <td>-1.000000</td>\n",
       "      <td>0.000000</td>\n",
       "      <td>0.000000</td>\n",
       "      <td>0.000000</td>\n",
       "      <td>0.000000</td>\n",
       "      <td>0.000000</td>\n",
       "      <td>134.000000</td>\n",
       "    </tr>\n",
       "    <tr>\n",
       "      <th>25%</th>\n",
       "      <td>3.400000</td>\n",
       "      <td>1960.750000</td>\n",
       "      <td>0.0</td>\n",
       "      <td>64.000000</td>\n",
       "      <td>120.000000</td>\n",
       "      <td>93.500000</td>\n",
       "      <td>8.000000</td>\n",
       "      <td>0.000000</td>\n",
       "      <td>0.000000</td>\n",
       "      <td>0.000000</td>\n",
       "      <td>0.000000</td>\n",
       "      <td>0.000000</td>\n",
       "      <td>2742.000000</td>\n",
       "    </tr>\n",
       "    <tr>\n",
       "      <th>50%</th>\n",
       "      <td>3.800000</td>\n",
       "      <td>1996.000000</td>\n",
       "      <td>0.0</td>\n",
       "      <td>80.000000</td>\n",
       "      <td>132.000000</td>\n",
       "      <td>106.000000</td>\n",
       "      <td>19.000000</td>\n",
       "      <td>1.000000</td>\n",
       "      <td>0.000000</td>\n",
       "      <td>0.000000</td>\n",
       "      <td>0.000000</td>\n",
       "      <td>0.000000</td>\n",
       "      <td>3579.000000</td>\n",
       "    </tr>\n",
       "    <tr>\n",
       "      <th>75%</th>\n",
       "      <td>4.300000</td>\n",
       "      <td>2008.000000</td>\n",
       "      <td>0.0</td>\n",
       "      <td>85.000000</td>\n",
       "      <td>165.000000</td>\n",
       "      <td>126.500000</td>\n",
       "      <td>38.000000</td>\n",
       "      <td>1.000000</td>\n",
       "      <td>0.000000</td>\n",
       "      <td>0.000000</td>\n",
       "      <td>1.000000</td>\n",
       "      <td>1.000000</td>\n",
       "      <td>4625.500000</td>\n",
       "    </tr>\n",
       "    <tr>\n",
       "      <th>max</th>\n",
       "      <td>5.000000</td>\n",
       "      <td>2020.000000</td>\n",
       "      <td>0.0</td>\n",
       "      <td>229.000000</td>\n",
       "      <td>350.000000</td>\n",
       "      <td>289.500000</td>\n",
       "      <td>221.000000</td>\n",
       "      <td>1.000000</td>\n",
       "      <td>1.000000</td>\n",
       "      <td>1.000000</td>\n",
       "      <td>1.000000</td>\n",
       "      <td>1.000000</td>\n",
       "      <td>11406.000000</td>\n",
       "    </tr>\n",
       "  </tbody>\n",
       "</table>\n",
       "</div>"
      ],
      "text/plain": [
       "           Rating      Founded  employer_provided  min_salary  max_salary  \\\n",
       "count  760.000000   760.000000              760.0  760.000000  760.000000   \n",
       "mean     3.728026  1788.372368                0.0   82.117105  139.852632   \n",
       "std      0.948498   597.701045                0.0   36.006561   52.906504   \n",
       "min     -1.000000    -1.000000                0.0   30.000000   56.000000   \n",
       "25%      3.400000  1960.750000                0.0   64.000000  120.000000   \n",
       "50%      3.800000  1996.000000                0.0   80.000000  132.000000   \n",
       "75%      4.300000  2008.000000                0.0   85.000000  165.000000   \n",
       "max      5.000000  2020.000000                0.0  229.000000  350.000000   \n",
       "\n",
       "       avg_salary         age   python_yn        R_yn       spark         aws  \\\n",
       "count  760.000000  760.000000  760.000000  760.000000  760.000000  760.000000   \n",
       "mean   110.984868   29.427632    0.646053    0.009211    0.225000    0.282895   \n",
       "std     44.222340   33.456322    0.478508    0.095591    0.417857    0.450702   \n",
       "min     45.500000   -1.000000    0.000000    0.000000    0.000000    0.000000   \n",
       "25%     93.500000    8.000000    0.000000    0.000000    0.000000    0.000000   \n",
       "50%    106.000000   19.000000    1.000000    0.000000    0.000000    0.000000   \n",
       "75%    126.500000   38.000000    1.000000    0.000000    0.000000    1.000000   \n",
       "max    289.500000  221.000000    1.000000    1.000000    1.000000    1.000000   \n",
       "\n",
       "            excel      desc_len  \n",
       "count  760.000000    760.000000  \n",
       "mean     0.475000   3782.221053  \n",
       "std      0.499703   1575.904251  \n",
       "min      0.000000    134.000000  \n",
       "25%      0.000000   2742.000000  \n",
       "50%      0.000000   3579.000000  \n",
       "75%      1.000000   4625.500000  \n",
       "max      1.000000  11406.000000  "
      ]
     },
     "execution_count": 23,
     "metadata": {},
     "output_type": "execute_result"
    }
   ],
   "source": [
    "df.describe()"
   ]
  },
  {
   "cell_type": "code",
   "execution_count": 24,
   "metadata": {},
   "outputs": [
    {
     "data": {
      "text/plain": [
       "<matplotlib.axes._subplots.AxesSubplot at 0x289f16bf308>"
      ]
     },
     "execution_count": 24,
     "metadata": {},
     "output_type": "execute_result"
    },
    {
     "data": {
      "image/png": "[encoded data removed]",
      "text/plain": [
       "<Figure size 432x288 with 1 Axes>"
      ]
     },
     "metadata": {
      "needs_background": "light"
     },
     "output_type": "display_data"
    }
   ],
   "source": [
    "df.Rating.hist()"
   ]
  },
  {
   "cell_type": "code",
   "execution_count": 25,
   "metadata": {},
   "outputs": [
    {
     "data": {
      "text/plain": [
       "<matplotlib.axes._subplots.AxesSubplot at 0x289f37b7e48>"
      ]
     },
     "execution_count": 25,
     "metadata": {},
     "output_type": "execute_result"
    },
    {
     "data": {
      "image/png": "[encoded data removed]",
      "text/plain": [
       "<Figure size 432x288 with 1 Axes>"
      ]
     },
     "metadata": {
      "needs_background": "light"
     },
     "output_type": "display_data"
    }
   ],
   "source": [
    "df.avg_salary.hist()"
   ]
  },
  {
   "cell_type": "code",
   "execution_count": 26,
   "metadata": {},
   "outputs": [
    {
     "data": {
      "text/plain": [
       "<matplotlib.axes._subplots.AxesSubplot at 0x289f3849148>"
      ]
     },
     "execution_count": 26,
     "metadata": {},
     "output_type": "execute_result"
    },
    {
     "data": {
      "image/png": "[encoded data removed]",
      "text/plain": [
       "<Figure size 432x288 with 1 Axes>"
      ]
     },
     "metadata": {
      "needs_background": "light"
     },
     "output_type": "display_data"
    }
   ],
   "source": [
    "df.age.hist()"
   ]
  },
  {
   "cell_type": "markdown",
   "metadata": {},
   "source": [
    "Age has exponential shape, it's not normal distribution. We may have to fix this. Since, linear regression deals with normal distribution."
   ]
  },
  {
   "cell_type": "code",
   "execution_count": 28,
   "metadata": {},
   "outputs": [
    {
     "data": {
      "text/plain": [
       "<matplotlib.axes._subplots.AxesSubplot at 0x289f3930288>"
      ]
     },
     "execution_count": 28,
     "metadata": {},
     "output_type": "execute_result"
    },
    {
     "data": {
      "image/png": "[encoded data removed]",
      "text/plain": [
       "<Figure size 432x288 with 1 Axes>"
      ]
     },
     "metadata": {
      "needs_background": "light"
     },
     "output_type": "display_data"
    }
   ],
   "source": [
    "df.desc_len.hist()"
   ]
  },
  {
   "cell_type": "code",
   "execution_count": 29,
   "metadata": {},
   "outputs": [
    {
     "data": {
      "text/plain": [
       "<matplotlib.axes._subplots.AxesSubplot at 0x289f39c77c8>"
      ]
     },
     "execution_count": 29,
     "metadata": {},
     "output_type": "execute_result"
    },
    {
     "data": {
      "image/png": "[encoded data removed]",
      "text/plain": [
       "<Figure size 432x288 with 1 Axes>"
      ]
     },
     "metadata": {
      "needs_background": "light"
     },
     "output_type": "display_data"
    }
   ],
   "source": [
    "df.boxplot(column = ['age','avg_salary','Rating'])"
   ]
  },
  {
   "cell_type": "markdown",
   "metadata": {},
   "source": [
    "Something wrong with rating!"
   ]
  },
  {
   "cell_type": "code",
   "execution_count": 30,
   "metadata": {},
   "outputs": [
    {
     "data": {
      "text/plain": [
       "<matplotlib.axes._subplots.AxesSubplot at 0x289f3a68ec8>"
      ]
     },
     "execution_count": 30,
     "metadata": {},
     "output_type": "execute_result"
    },
    {
     "data": {
      "image/png": "[encoded data removed]",
      "text/plain": [
       "<Figure size 432x288 with 1 Axes>"
      ]
     },
     "metadata": {
      "needs_background": "light"
     },
     "output_type": "display_data"
    }
   ],
   "source": [
    "df.boxplot(column = 'Rating')"
   ]
  },
  {
   "cell_type": "markdown",
   "metadata": {},
   "source": [
    "Oh! There are some outliers"
   ]
  },
  {
   "cell_type": "code",
   "execution_count": 31,
   "metadata": {},
   "outputs": [
    {
     "data": {
      "text/html": [
       "<div>\n",
       "<style scoped>\n",
       "    .dataframe tbody tr th:only-of-type {\n",
       "        vertical-align: middle;\n",
       "    }\n",
       "\n",
       "    .dataframe tbody tr th {\n",
       "        vertical-align: top;\n",
       "    }\n",
       "\n",
       "    .dataframe thead th {\n",
       "        text-align: right;\n",
       "    }\n",
       "</style>\n",
       "<table border=\"1\" class=\"dataframe\">\n",
       "  <thead>\n",
       "    <tr style=\"text-align: right;\">\n",
       "      <th></th>\n",
       "      <th>age</th>\n",
       "      <th>avg_salary</th>\n",
       "      <th>Rating</th>\n",
       "      <th>desc_len</th>\n",
       "    </tr>\n",
       "  </thead>\n",
       "  <tbody>\n",
       "    <tr>\n",
       "      <th>age</th>\n",
       "      <td>1.000000</td>\n",
       "      <td>0.007111</td>\n",
       "      <td>0.030711</td>\n",
       "      <td>0.211097</td>\n",
       "    </tr>\n",
       "    <tr>\n",
       "      <th>avg_salary</th>\n",
       "      <td>0.007111</td>\n",
       "      <td>1.000000</td>\n",
       "      <td>-0.059034</td>\n",
       "      <td>0.030633</td>\n",
       "    </tr>\n",
       "    <tr>\n",
       "      <th>Rating</th>\n",
       "      <td>0.030711</td>\n",
       "      <td>-0.059034</td>\n",
       "      <td>1.000000</td>\n",
       "      <td>0.048675</td>\n",
       "    </tr>\n",
       "    <tr>\n",
       "      <th>desc_len</th>\n",
       "      <td>0.211097</td>\n",
       "      <td>0.030633</td>\n",
       "      <td>0.048675</td>\n",
       "      <td>1.000000</td>\n",
       "    </tr>\n",
       "  </tbody>\n",
       "</table>\n",
       "</div>"
      ],
      "text/plain": [
       "                 age  avg_salary    Rating  desc_len\n",
       "age         1.000000    0.007111  0.030711  0.211097\n",
       "avg_salary  0.007111    1.000000 -0.059034  0.030633\n",
       "Rating      0.030711   -0.059034  1.000000  0.048675\n",
       "desc_len    0.211097    0.030633  0.048675  1.000000"
      ]
     },
     "execution_count": 31,
     "metadata": {},
     "output_type": "execute_result"
    }
   ],
   "source": [
    "df[['age','avg_salary','Rating','desc_len']].corr()"
   ]
  },
  {
   "cell_type": "markdown",
   "metadata": {},
   "source": [
    "Let's visualize to understand correlation better"
   ]
  },
  {
   "cell_type": "code",
   "execution_count": 33,
   "metadata": {},
   "outputs": [
    {
     "data": {
      "text/plain": [
       "<matplotlib.axes._subplots.AxesSubplot at 0x289f3837888>"
      ]
     },
     "execution_count": 33,
     "metadata": {},
     "output_type": "execute_result"
    },
    {
     "data": {
      "image/png": "[encoded data removed]",
      "text/plain": [
       "<Figure size 432x288 with 2 Axes>"
      ]
     },
     "metadata": {
      "needs_background": "light"
     },
     "output_type": "display_data"
    }
   ],
   "source": [
    "cmap = sns.diverging_palette(220, 10, as_cmap=True)\n",
    "sns.heatmap(df[['age','avg_salary','Rating','desc_len']].corr(),vmax=.3, center=0, cmap=cmap,\n",
    "            square=True, linewidths=.5, cbar_kws={\"shrink\": .5})"
   ]
  },
  {
   "cell_type": "markdown",
   "metadata": {},
   "source": [
    "There are good correlation with age and desc length!"
   ]
  },
  {
   "cell_type": "code",
   "execution_count": null,
   "metadata": {},
   "outputs": [],
   "source": []
  }
 ],
 "metadata": {
  "kernelspec": {
   "display_name": "Python 3",
   "language": "python",
   "name": "python3"
  },
  "language_info": {
   "codemirror_mode": {
    "name": "ipython",
    "version": 3
   },
   "file_extension": ".py",
   "mimetype": "text/x-python",
   "name": "python",
   "nbconvert_exporter": "python",
   "pygments_lexer": "ipython3",
   "version": "3.7.7"
  }
 },
 "nbformat": 4,
 "nbformat_minor": 4
}
